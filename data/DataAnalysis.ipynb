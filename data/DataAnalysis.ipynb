{
 "cells": [
  {
   "cell_type": "code",
   "execution_count": 1,
   "metadata": {},
   "outputs": [],
   "source": [
    "from sklearn.datasets import load_files\n",
    "import pandas as pd"
   ]
  },
  {
   "cell_type": "code",
   "execution_count": 2,
   "metadata": {
    "scrolled": false
   },
   "outputs": [],
   "source": [
    "data_int = load_files(\"raw_data\", encoding='utf-8')"
   ]
  },
  {
   "cell_type": "code",
   "execution_count": 3,
   "metadata": {},
   "outputs": [
    {
     "data": {
      "text/plain": [
       "['DESCR', 'data', 'filenames', 'target', 'target_names']"
      ]
     },
     "execution_count": 3,
     "metadata": {},
     "output_type": "execute_result"
    }
   ],
   "source": [
    "dir(data_int)"
   ]
  },
  {
   "cell_type": "code",
   "execution_count": 4,
   "metadata": {},
   "outputs": [],
   "source": [
    "data_int.target_names\n",
    "data_int.filenames\n",
    "targets = data_int.target\n",
    "data = data_int.data"
   ]
  },
  {
   "cell_type": "code",
   "execution_count": 5,
   "metadata": {},
   "outputs": [],
   "source": [
    "lines = []\n",
    "for i,f in enumerate(data):\n",
    "    lines_txt = [l for l in data[i].replace('\\r','').split('\\n') if l.strip()]\n",
    "    labels = [targets[i]] * len(lines_txt)\n",
    "    lines += list(zip(lines_txt, labels))"
   ]
  },
  {
   "cell_type": "code",
   "execution_count": 6,
   "metadata": {
    "scrolled": true
   },
   "outputs": [
    {
     "data": {
      "text/plain": [
       "387556"
      ]
     },
     "execution_count": 6,
     "metadata": {},
     "output_type": "execute_result"
    }
   ],
   "source": [
    "len(lines)"
   ]
  },
  {
   "cell_type": "code",
   "execution_count": null,
   "metadata": {},
   "outputs": [],
   "source": []
  },
  {
   "cell_type": "code",
   "execution_count": 7,
   "metadata": {},
   "outputs": [],
   "source": [
    "df = pd.DataFrame(lines, columns=[\"text\", \"target\"])"
   ]
  },
  {
   "cell_type": "code",
   "execution_count": 8,
   "metadata": {},
   "outputs": [
    {
     "data": {
      "text/html": [
       "<div>\n",
       "<style scoped>\n",
       "    .dataframe tbody tr th:only-of-type {\n",
       "        vertical-align: middle;\n",
       "    }\n",
       "\n",
       "    .dataframe tbody tr th {\n",
       "        vertical-align: top;\n",
       "    }\n",
       "\n",
       "    .dataframe thead th {\n",
       "        text-align: right;\n",
       "    }\n",
       "</style>\n",
       "<table border=\"1\" class=\"dataframe\">\n",
       "  <thead>\n",
       "    <tr style=\"text-align: right;\">\n",
       "      <th></th>\n",
       "      <th>text</th>\n",
       "      <th>target</th>\n",
       "    </tr>\n",
       "  </thead>\n",
       "  <tbody>\n",
       "    <tr>\n",
       "      <th>0</th>\n",
       "      <td>/*</td>\n",
       "      <td>4</td>\n",
       "    </tr>\n",
       "    <tr>\n",
       "      <th>1</th>\n",
       "      <td>* Copyright 2017 MongoDB, Inc.</td>\n",
       "      <td>4</td>\n",
       "    </tr>\n",
       "    <tr>\n",
       "      <th>2</th>\n",
       "      <td>*</td>\n",
       "      <td>4</td>\n",
       "    </tr>\n",
       "    <tr>\n",
       "      <th>3</th>\n",
       "      <td>* Licensed under the Apache License, Version ...</td>\n",
       "      <td>4</td>\n",
       "    </tr>\n",
       "    <tr>\n",
       "      <th>4</th>\n",
       "      <td>* you may not use this file except in complia...</td>\n",
       "      <td>4</td>\n",
       "    </tr>\n",
       "    <tr>\n",
       "      <th>5</th>\n",
       "      <td>* You may obtain a copy of the License at</td>\n",
       "      <td>4</td>\n",
       "    </tr>\n",
       "    <tr>\n",
       "      <th>6</th>\n",
       "      <td>*</td>\n",
       "      <td>4</td>\n",
       "    </tr>\n",
       "    <tr>\n",
       "      <th>7</th>\n",
       "      <td>*   http://www.apache.org/licenses/LICENSE-2.0</td>\n",
       "      <td>4</td>\n",
       "    </tr>\n",
       "    <tr>\n",
       "      <th>8</th>\n",
       "      <td>*</td>\n",
       "      <td>4</td>\n",
       "    </tr>\n",
       "    <tr>\n",
       "      <th>9</th>\n",
       "      <td>* Unless required by applicable law or agreed...</td>\n",
       "      <td>4</td>\n",
       "    </tr>\n",
       "    <tr>\n",
       "      <th>10</th>\n",
       "      <td>* distributed under the License is distribute...</td>\n",
       "      <td>4</td>\n",
       "    </tr>\n",
       "    <tr>\n",
       "      <th>11</th>\n",
       "      <td>* WITHOUT WARRANTIES OR CONDITIONS OF ANY KIN...</td>\n",
       "      <td>4</td>\n",
       "    </tr>\n",
       "    <tr>\n",
       "      <th>12</th>\n",
       "      <td>* See the License for the specific language g...</td>\n",
       "      <td>4</td>\n",
       "    </tr>\n",
       "    <tr>\n",
       "      <th>13</th>\n",
       "      <td>* limitations under the License.</td>\n",
       "      <td>4</td>\n",
       "    </tr>\n",
       "    <tr>\n",
       "      <th>14</th>\n",
       "      <td>*/</td>\n",
       "      <td>4</td>\n",
       "    </tr>\n",
       "    <tr>\n",
       "      <th>15</th>\n",
       "      <td>package org.mongodb.scala</td>\n",
       "      <td>4</td>\n",
       "    </tr>\n",
       "    <tr>\n",
       "      <th>16</th>\n",
       "      <td>import com.mongodb.{MongoCompressor =&gt; JMongoC...</td>\n",
       "      <td>4</td>\n",
       "    </tr>\n",
       "    <tr>\n",
       "      <th>17</th>\n",
       "      <td>/**</td>\n",
       "      <td>4</td>\n",
       "    </tr>\n",
       "    <tr>\n",
       "      <th>18</th>\n",
       "      <td>* Metadata describing a compressor to use for...</td>\n",
       "      <td>4</td>\n",
       "    </tr>\n",
       "    <tr>\n",
       "      <th>19</th>\n",
       "      <td>*</td>\n",
       "      <td>4</td>\n",
       "    </tr>\n",
       "    <tr>\n",
       "      <th>20</th>\n",
       "      <td>* @since 2.2</td>\n",
       "      <td>4</td>\n",
       "    </tr>\n",
       "    <tr>\n",
       "      <th>21</th>\n",
       "      <td>* @note Requires MongoDB 3.4 or greater</td>\n",
       "      <td>4</td>\n",
       "    </tr>\n",
       "    <tr>\n",
       "      <th>22</th>\n",
       "      <td>*/</td>\n",
       "      <td>4</td>\n",
       "    </tr>\n",
       "    <tr>\n",
       "      <th>23</th>\n",
       "      <td>object MongoCompressor {</td>\n",
       "      <td>4</td>\n",
       "    </tr>\n",
       "    <tr>\n",
       "      <th>24</th>\n",
       "      <td>/**</td>\n",
       "      <td>4</td>\n",
       "    </tr>\n",
       "    <tr>\n",
       "      <th>25</th>\n",
       "      <td>* Create an instance for snappy compression.</td>\n",
       "      <td>4</td>\n",
       "    </tr>\n",
       "    <tr>\n",
       "      <th>26</th>\n",
       "      <td>*</td>\n",
       "      <td>4</td>\n",
       "    </tr>\n",
       "    <tr>\n",
       "      <th>27</th>\n",
       "      <td>* @return A compressor based on the snappy ...</td>\n",
       "      <td>4</td>\n",
       "    </tr>\n",
       "    <tr>\n",
       "      <th>28</th>\n",
       "      <td>*/</td>\n",
       "      <td>4</td>\n",
       "    </tr>\n",
       "    <tr>\n",
       "      <th>29</th>\n",
       "      <td>def createSnappyCompressor: MongoCompressor ...</td>\n",
       "      <td>4</td>\n",
       "    </tr>\n",
       "    <tr>\n",
       "      <th>...</th>\n",
       "      <td>...</td>\n",
       "      <td>...</td>\n",
       "    </tr>\n",
       "    <tr>\n",
       "      <th>387526</th>\n",
       "      <td>\\t */</td>\n",
       "      <td>2</td>\n",
       "    </tr>\n",
       "    <tr>\n",
       "      <th>387527</th>\n",
       "      <td>\\tpublic void configure(DefaultJmsListenerCont...</td>\n",
       "      <td>2</td>\n",
       "    </tr>\n",
       "    <tr>\n",
       "      <th>387528</th>\n",
       "      <td>\\t\\t\\tConnectionFactory connectionFactory) {</td>\n",
       "      <td>2</td>\n",
       "    </tr>\n",
       "    <tr>\n",
       "      <th>387529</th>\n",
       "      <td>\\t\\tAssert.notNull(factory, \"Factory must not ...</td>\n",
       "      <td>2</td>\n",
       "    </tr>\n",
       "    <tr>\n",
       "      <th>387530</th>\n",
       "      <td>\\t\\tAssert.notNull(connectionFactory, \"Connect...</td>\n",
       "      <td>2</td>\n",
       "    </tr>\n",
       "    <tr>\n",
       "      <th>387531</th>\n",
       "      <td>\\t\\tfactory.setConnectionFactory(connectionFac...</td>\n",
       "      <td>2</td>\n",
       "    </tr>\n",
       "    <tr>\n",
       "      <th>387532</th>\n",
       "      <td>\\t\\tfactory.setPubSubDomain(this.jmsProperties...</td>\n",
       "      <td>2</td>\n",
       "    </tr>\n",
       "    <tr>\n",
       "      <th>387533</th>\n",
       "      <td>\\t\\tif (this.transactionManager != null) {</td>\n",
       "      <td>2</td>\n",
       "    </tr>\n",
       "    <tr>\n",
       "      <th>387534</th>\n",
       "      <td>\\t\\t\\tfactory.setTransactionManager(this.trans...</td>\n",
       "      <td>2</td>\n",
       "    </tr>\n",
       "    <tr>\n",
       "      <th>387535</th>\n",
       "      <td>\\t\\t}</td>\n",
       "      <td>2</td>\n",
       "    </tr>\n",
       "    <tr>\n",
       "      <th>387536</th>\n",
       "      <td>\\t\\telse {</td>\n",
       "      <td>2</td>\n",
       "    </tr>\n",
       "    <tr>\n",
       "      <th>387537</th>\n",
       "      <td>\\t\\t\\tfactory.setSessionTransacted(true);</td>\n",
       "      <td>2</td>\n",
       "    </tr>\n",
       "    <tr>\n",
       "      <th>387538</th>\n",
       "      <td>\\t\\t}</td>\n",
       "      <td>2</td>\n",
       "    </tr>\n",
       "    <tr>\n",
       "      <th>387539</th>\n",
       "      <td>\\t\\tif (this.destinationResolver != null) {</td>\n",
       "      <td>2</td>\n",
       "    </tr>\n",
       "    <tr>\n",
       "      <th>387540</th>\n",
       "      <td>\\t\\t\\tfactory.setDestinationResolver(this.dest...</td>\n",
       "      <td>2</td>\n",
       "    </tr>\n",
       "    <tr>\n",
       "      <th>387541</th>\n",
       "      <td>\\t\\t}</td>\n",
       "      <td>2</td>\n",
       "    </tr>\n",
       "    <tr>\n",
       "      <th>387542</th>\n",
       "      <td>\\t\\tif (this.messageConverter != null) {</td>\n",
       "      <td>2</td>\n",
       "    </tr>\n",
       "    <tr>\n",
       "      <th>387543</th>\n",
       "      <td>\\t\\t\\tfactory.setMessageConverter(this.message...</td>\n",
       "      <td>2</td>\n",
       "    </tr>\n",
       "    <tr>\n",
       "      <th>387544</th>\n",
       "      <td>\\t\\t}</td>\n",
       "      <td>2</td>\n",
       "    </tr>\n",
       "    <tr>\n",
       "      <th>387545</th>\n",
       "      <td>\\t\\tJmsProperties.Listener listener = this.jms...</td>\n",
       "      <td>2</td>\n",
       "    </tr>\n",
       "    <tr>\n",
       "      <th>387546</th>\n",
       "      <td>\\t\\tfactory.setAutoStartup(listener.isAutoStar...</td>\n",
       "      <td>2</td>\n",
       "    </tr>\n",
       "    <tr>\n",
       "      <th>387547</th>\n",
       "      <td>\\t\\tif (listener.getAcknowledgeMode() != null) {</td>\n",
       "      <td>2</td>\n",
       "    </tr>\n",
       "    <tr>\n",
       "      <th>387548</th>\n",
       "      <td>\\t\\t\\tfactory.setSessionAcknowledgeMode(listen...</td>\n",
       "      <td>2</td>\n",
       "    </tr>\n",
       "    <tr>\n",
       "      <th>387549</th>\n",
       "      <td>\\t\\t}</td>\n",
       "      <td>2</td>\n",
       "    </tr>\n",
       "    <tr>\n",
       "      <th>387550</th>\n",
       "      <td>\\t\\tString concurrency = listener.formatConcur...</td>\n",
       "      <td>2</td>\n",
       "    </tr>\n",
       "    <tr>\n",
       "      <th>387551</th>\n",
       "      <td>\\t\\tif (concurrency != null) {</td>\n",
       "      <td>2</td>\n",
       "    </tr>\n",
       "    <tr>\n",
       "      <th>387552</th>\n",
       "      <td>\\t\\t\\tfactory.setConcurrency(concurrency);</td>\n",
       "      <td>2</td>\n",
       "    </tr>\n",
       "    <tr>\n",
       "      <th>387553</th>\n",
       "      <td>\\t\\t}</td>\n",
       "      <td>2</td>\n",
       "    </tr>\n",
       "    <tr>\n",
       "      <th>387554</th>\n",
       "      <td>\\t}</td>\n",
       "      <td>2</td>\n",
       "    </tr>\n",
       "    <tr>\n",
       "      <th>387555</th>\n",
       "      <td>}</td>\n",
       "      <td>2</td>\n",
       "    </tr>\n",
       "  </tbody>\n",
       "</table>\n",
       "<p>387556 rows × 2 columns</p>\n",
       "</div>"
      ],
      "text/plain": [
       "                                                     text  target\n",
       "0                                                      /*       4\n",
       "1                          * Copyright 2017 MongoDB, Inc.       4\n",
       "2                                                       *       4\n",
       "3        * Licensed under the Apache License, Version ...       4\n",
       "4        * you may not use this file except in complia...       4\n",
       "5               * You may obtain a copy of the License at       4\n",
       "6                                                       *       4\n",
       "7          *   http://www.apache.org/licenses/LICENSE-2.0       4\n",
       "8                                                       *       4\n",
       "9        * Unless required by applicable law or agreed...       4\n",
       "10       * distributed under the License is distribute...       4\n",
       "11       * WITHOUT WARRANTIES OR CONDITIONS OF ANY KIN...       4\n",
       "12       * See the License for the specific language g...       4\n",
       "13                       * limitations under the License.       4\n",
       "14                                                     */       4\n",
       "15                              package org.mongodb.scala       4\n",
       "16      import com.mongodb.{MongoCompressor => JMongoC...       4\n",
       "17                                                    /**       4\n",
       "18       * Metadata describing a compressor to use for...       4\n",
       "19                                                      *       4\n",
       "20                                           * @since 2.2       4\n",
       "21                * @note Requires MongoDB 3.4 or greater       4\n",
       "22                                                     */       4\n",
       "23                               object MongoCompressor {       4\n",
       "24                                                    /**       4\n",
       "25           * Create an instance for snappy compression.       4\n",
       "26                                                      *       4\n",
       "27         * @return A compressor based on the snappy ...       4\n",
       "28                                                     */       4\n",
       "29        def createSnappyCompressor: MongoCompressor ...       4\n",
       "...                                                   ...     ...\n",
       "387526                                              \\t */       2\n",
       "387527  \\tpublic void configure(DefaultJmsListenerCont...       2\n",
       "387528       \\t\\t\\tConnectionFactory connectionFactory) {       2\n",
       "387529  \\t\\tAssert.notNull(factory, \"Factory must not ...       2\n",
       "387530  \\t\\tAssert.notNull(connectionFactory, \"Connect...       2\n",
       "387531  \\t\\tfactory.setConnectionFactory(connectionFac...       2\n",
       "387532  \\t\\tfactory.setPubSubDomain(this.jmsProperties...       2\n",
       "387533         \\t\\tif (this.transactionManager != null) {       2\n",
       "387534  \\t\\t\\tfactory.setTransactionManager(this.trans...       2\n",
       "387535                                              \\t\\t}       2\n",
       "387536                                         \\t\\telse {       2\n",
       "387537          \\t\\t\\tfactory.setSessionTransacted(true);       2\n",
       "387538                                              \\t\\t}       2\n",
       "387539        \\t\\tif (this.destinationResolver != null) {       2\n",
       "387540  \\t\\t\\tfactory.setDestinationResolver(this.dest...       2\n",
       "387541                                              \\t\\t}       2\n",
       "387542           \\t\\tif (this.messageConverter != null) {       2\n",
       "387543  \\t\\t\\tfactory.setMessageConverter(this.message...       2\n",
       "387544                                              \\t\\t}       2\n",
       "387545  \\t\\tJmsProperties.Listener listener = this.jms...       2\n",
       "387546  \\t\\tfactory.setAutoStartup(listener.isAutoStar...       2\n",
       "387547   \\t\\tif (listener.getAcknowledgeMode() != null) {       2\n",
       "387548  \\t\\t\\tfactory.setSessionAcknowledgeMode(listen...       2\n",
       "387549                                              \\t\\t}       2\n",
       "387550  \\t\\tString concurrency = listener.formatConcur...       2\n",
       "387551                     \\t\\tif (concurrency != null) {       2\n",
       "387552         \\t\\t\\tfactory.setConcurrency(concurrency);       2\n",
       "387553                                              \\t\\t}       2\n",
       "387554                                                \\t}       2\n",
       "387555                                                  }       2\n",
       "\n",
       "[387556 rows x 2 columns]"
      ]
     },
     "execution_count": 8,
     "metadata": {},
     "output_type": "execute_result"
    }
   ],
   "source": [
    "df"
   ]
  },
  {
   "cell_type": "code",
   "execution_count": 9,
   "metadata": {},
   "outputs": [
    {
     "data": {
      "text/html": [
       "<div>\n",
       "<style scoped>\n",
       "    .dataframe tbody tr th:only-of-type {\n",
       "        vertical-align: middle;\n",
       "    }\n",
       "\n",
       "    .dataframe tbody tr th {\n",
       "        vertical-align: top;\n",
       "    }\n",
       "\n",
       "    .dataframe thead th {\n",
       "        text-align: right;\n",
       "    }\n",
       "</style>\n",
       "<table border=\"1\" class=\"dataframe\">\n",
       "  <thead>\n",
       "    <tr style=\"text-align: right;\">\n",
       "      <th></th>\n",
       "      <th>text</th>\n",
       "      <th>target</th>\n",
       "    </tr>\n",
       "  </thead>\n",
       "  <tbody>\n",
       "    <tr>\n",
       "      <th>0</th>\n",
       "      <td>/*</td>\n",
       "      <td>4</td>\n",
       "    </tr>\n",
       "    <tr>\n",
       "      <th>1</th>\n",
       "      <td>* Copyright 2017 MongoDB, Inc.</td>\n",
       "      <td>4</td>\n",
       "    </tr>\n",
       "    <tr>\n",
       "      <th>2</th>\n",
       "      <td>*</td>\n",
       "      <td>4</td>\n",
       "    </tr>\n",
       "    <tr>\n",
       "      <th>3</th>\n",
       "      <td>* Licensed under the Apache License, Version ...</td>\n",
       "      <td>4</td>\n",
       "    </tr>\n",
       "    <tr>\n",
       "      <th>4</th>\n",
       "      <td>* you may not use this file except in complia...</td>\n",
       "      <td>4</td>\n",
       "    </tr>\n",
       "  </tbody>\n",
       "</table>\n",
       "</div>"
      ],
      "text/plain": [
       "                                                text  target\n",
       "0                                                 /*       4\n",
       "1                     * Copyright 2017 MongoDB, Inc.       4\n",
       "2                                                  *       4\n",
       "3   * Licensed under the Apache License, Version ...       4\n",
       "4   * you may not use this file except in complia...       4"
      ]
     },
     "execution_count": 9,
     "metadata": {},
     "output_type": "execute_result"
    }
   ],
   "source": [
    "df.head()"
   ]
  },
  {
   "cell_type": "code",
   "execution_count": 10,
   "metadata": {},
   "outputs": [
    {
     "data": {
      "text/plain": [
       "2    248050\n",
       "0     39108\n",
       "5     34818\n",
       "4     24070\n",
       "1     21156\n",
       "3     20354\n",
       "Name: target, dtype: int64"
      ]
     },
     "execution_count": 10,
     "metadata": {},
     "output_type": "execute_result"
    }
   ],
   "source": [
    "df['target'].value_counts()"
   ]
  },
  {
   "cell_type": "code",
   "execution_count": 11,
   "metadata": {},
   "outputs": [
    {
     "data": {
      "text/plain": [
       "target\n",
       "0     39108\n",
       "1     21156\n",
       "2    248050\n",
       "3     20354\n",
       "4     24070\n",
       "5     34818\n",
       "dtype: int64"
      ]
     },
     "execution_count": 11,
     "metadata": {},
     "output_type": "execute_result"
    }
   ],
   "source": [
    "df.groupby(\"target\").size()"
   ]
  },
  {
   "cell_type": "code",
   "execution_count": 12,
   "metadata": {},
   "outputs": [
    {
     "data": {
      "text/plain": [
       "['C#', 'Haskell', 'Java', 'Python', 'Scala', 'TypeScript']"
      ]
     },
     "execution_count": 12,
     "metadata": {},
     "output_type": "execute_result"
    }
   ],
   "source": [
    "data_int.target_names"
   ]
  },
  {
   "cell_type": "code",
   "execution_count": 13,
   "metadata": {
    "scrolled": true
   },
   "outputs": [
    {
     "data": {
      "text/plain": [
       "2    24805\n",
       "5    24373\n",
       "4    24070\n",
       "0    23465\n",
       "1    21156\n",
       "3    20354\n",
       "Name: target, dtype: int64"
      ]
     },
     "execution_count": 13,
     "metadata": {},
     "output_type": "execute_result"
    }
   ],
   "source": [
    "# randomly drop elements in order to have balanced classes\n",
    "\n",
    "index_to_drop = df[df[\"target\"]==2].sample(frac=0.9).index\n",
    "df = df.drop(index_to_drop)\n",
    "\n",
    "index_to_drop = df[df[\"target\"]==0].sample(frac=0.4).index\n",
    "df = df.drop(index_to_drop)\n",
    "\n",
    "index_to_drop = df[df[\"target\"]==5].sample(frac=0.3).index\n",
    "df = df.drop(index_to_drop)\n",
    "\n",
    "df['target'].value_counts()"
   ]
  },
  {
   "cell_type": "code",
   "execution_count": 16,
   "metadata": {},
   "outputs": [
    {
     "data": {
      "text/plain": [
       "2    0.179456\n",
       "5    0.176331\n",
       "4    0.174139\n",
       "0    0.169762\n",
       "1    0.153057\n",
       "3    0.147255\n",
       "Name: target, dtype: float64"
      ]
     },
     "execution_count": 16,
     "metadata": {},
     "output_type": "execute_result"
    }
   ],
   "source": [
    "df['target'].value_counts() / len(df)"
   ]
  },
  {
   "cell_type": "code",
   "execution_count": 17,
   "metadata": {},
   "outputs": [
    {
     "data": {
      "text/html": [
       "<div>\n",
       "<style scoped>\n",
       "    .dataframe tbody tr th:only-of-type {\n",
       "        vertical-align: middle;\n",
       "    }\n",
       "\n",
       "    .dataframe tbody tr th {\n",
       "        vertical-align: top;\n",
       "    }\n",
       "\n",
       "    .dataframe thead th {\n",
       "        text-align: right;\n",
       "    }\n",
       "</style>\n",
       "<table border=\"1\" class=\"dataframe\">\n",
       "  <thead>\n",
       "    <tr style=\"text-align: right;\">\n",
       "      <th></th>\n",
       "      <th>text</th>\n",
       "      <th>target</th>\n",
       "    </tr>\n",
       "  </thead>\n",
       "  <tbody>\n",
       "    <tr>\n",
       "      <th>0</th>\n",
       "      <td>/*</td>\n",
       "      <td>4</td>\n",
       "    </tr>\n",
       "    <tr>\n",
       "      <th>1</th>\n",
       "      <td>* Copyright 2017 MongoDB, Inc.</td>\n",
       "      <td>4</td>\n",
       "    </tr>\n",
       "    <tr>\n",
       "      <th>2</th>\n",
       "      <td>*</td>\n",
       "      <td>4</td>\n",
       "    </tr>\n",
       "    <tr>\n",
       "      <th>3</th>\n",
       "      <td>* Licensed under the Apache License, Version ...</td>\n",
       "      <td>4</td>\n",
       "    </tr>\n",
       "    <tr>\n",
       "      <th>4</th>\n",
       "      <td>* you may not use this file except in complia...</td>\n",
       "      <td>4</td>\n",
       "    </tr>\n",
       "  </tbody>\n",
       "</table>\n",
       "</div>"
      ],
      "text/plain": [
       "                                                text  target\n",
       "0                                                 /*       4\n",
       "1                     * Copyright 2017 MongoDB, Inc.       4\n",
       "2                                                  *       4\n",
       "3   * Licensed under the Apache License, Version ...       4\n",
       "4   * you may not use this file except in complia...       4"
      ]
     },
     "execution_count": 17,
     "metadata": {},
     "output_type": "execute_result"
    }
   ],
   "source": [
    "df.head()"
   ]
  },
  {
   "cell_type": "code",
   "execution_count": 18,
   "metadata": {},
   "outputs": [],
   "source": [
    "df.to_pickle(\"dataset.pkl\")"
   ]
  }
 ],
 "metadata": {
  "kernelspec": {
   "display_name": "Python 3",
   "language": "python",
   "name": "python3"
  },
  "language_info": {
   "codemirror_mode": {
    "name": "ipython",
    "version": 3
   },
   "file_extension": ".py",
   "mimetype": "text/x-python",
   "name": "python",
   "nbconvert_exporter": "python",
   "pygments_lexer": "ipython3",
   "version": "3.6.4"
  }
 },
 "nbformat": 4,
 "nbformat_minor": 2
}
